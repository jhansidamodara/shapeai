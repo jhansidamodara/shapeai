{
  "nbformat": 4,
  "nbformat_minor": 0,
  "metadata": {
    "colab": {
      "name": "Untitled2.ipynb",
      "provenance": [],
      "collapsed_sections": [],
      "authorship_tag": "ABX9TyNbnFJVp2pKI+7oLyBV3pZO",
      "include_colab_link": true
    },
    "kernelspec": {
      "name": "python3",
      "display_name": "Python 3"
    },
    "language_info": {
      "name": "python"
    }
  },
  "cells": [
    {
      "cell_type": "markdown",
      "metadata": {
        "id": "view-in-github",
        "colab_type": "text"
      },
      "source": [
        "<a href=\"https://colab.research.google.com/github/jhansidamodara/shapeai/blob/main/Untitled2.ipynb\" target=\"_parent\"><img src=\"https://colab.research.google.com/assets/colab-badge.svg\" alt=\"Open In Colab\"/></a>"
      ]
    },
    {
      "cell_type": "code",
      "metadata": {
        "colab": {
          "base_uri": "https://localhost:8080/"
        },
        "id": "3cr1ctkVk4-W",
        "outputId": "6880124d-f59c-444f-ea65-299b9ed1ba79"
      },
      "source": [
        "import requests\n",
        "import os\n",
        "from datetime import datetime\n",
        "\n",
        "api_key = '874dc4c2da31a8c3c21782ad1a2f0b1b' #api key\n",
        "location = input(\"enter the city name: \")\n",
        "\n",
        "complete_api_link = \"https://api.openweathermap.org/data/2.5/weather?q=\"+location+\"&appid=\"+api_key\n",
        "api_link = requests.get(complete_api_link)\n",
        "api_data = api_link.json()\n",
        "r = api_data\n",
        "#create variables to store and display data\n",
        "temp_city = ((api_data['main']['temp'])- 273.15)\n",
        "weather_desc = api_data['weather'][0]['description']\n",
        "hmdt = api_data['main']['humidity']\n",
        "wind_spd = api_data['wind']['speed']\n",
        "date_time = datetime.now().strftime(\"%d %b %Y | %I:%M:%S %P\")\n",
        "\n",
        "print (\"-----------------------------------------------------------------------\")\n",
        "print (\"Weather Stats for - {}   ||  {}\".format(location.upper(), date_time))\n",
        "print (\"-----------------------------------------------------------------------\")\n",
        "\n",
        "print (\"current temperature is: {:.2f} deg C\".format(temp_city))\n",
        "print (\"current weather desc  :\",weather_desc)\n",
        "print (\"current humidity      :\",hmdt, '%')\n",
        "print (\"current wind speed    :\",wind_spd , 'kmph')\n",
        "\n",
        "\n",
        "r = requests.get('https://api.openweathermap.org/data/2.5/weather?q='+location+\"&appid=\"+api_key)\n",
        "\n",
        "with open('info.txt','wb') as f:    #recording information in a text file named as info\n",
        "  f.write(r.content)"
      ],
      "execution_count": 4,
      "outputs": [
        {
          "output_type": "stream",
          "text": [
            "enter the city name: rajahmundry\n",
            "-----------------------------------------------------------------------\n",
            "Weather Stats for - RAJAHMUNDRY   ||  22 Jun 2021 | 12:49:14 pm\n",
            "-----------------------------------------------------------------------\n",
            "current temperature is: 32.13 deg C\n",
            "current weather desc  : haze\n",
            "current humidity      : 66 %\n",
            "current wind speed    : 3.09 kmph\n"
          ],
          "name": "stdout"
        }
      ]
    }
  ]
}